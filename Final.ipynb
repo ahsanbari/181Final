{
 "cells": [
  {
   "cell_type": "code",
   "execution_count": 2,
   "metadata": {},
   "outputs": [
    {
     "data": {
      "text/plain": [
       "<bound method ZipFile.close of <zipfile.ZipFile filename='tiny-imagenet-200.zip' mode='r'>>"
      ]
     },
     "execution_count": 2,
     "metadata": {},
     "output_type": "execute_result"
    }
   ],
   "source": [
    "#import zipfile as zf\n",
    "#files = zf.ZipFile(\"tiny-imagenet-200.zip\", 'r')\n",
    "#files.extractall()\n",
    "#files.close"
   ]
  },
  {
   "cell_type": "code",
   "execution_count": 1,
   "metadata": {},
   "outputs": [],
   "source": [
    "%matplotlib inline\n",
    "import matplotlib.pyplot as plt\n",
    "import numpy as np\n",
    "import torch\n",
    "import torchvision\n",
    "import torchvision.datasets as datasets\n",
    "import torch.utils.data as data\n",
    "from torchvision.utils import make_grid\n",
    "import torchvision.transforms as transforms\n",
    "import torch.nn as nn\n",
    "import torch.nn.functional as F\n",
    "import torch.optim as optim\n",
    "\n",
    "import os\n",
    "\n",
    "import vgg\n",
    "import resnet\n",
    "import googlenet\n",
    "import alexnet"
   ]
  },
  {
   "cell_type": "code",
   "execution_count": 2,
   "metadata": {},
   "outputs": [
    {
     "name": "stdout",
     "output_type": "stream",
     "text": [
      "cuda:0\n"
     ]
    }
   ],
   "source": [
    "# If there are GPUs, choose the first one for computing. Otherwise use CPU.\n",
    "device = torch.device(\"cuda:0\" if torch.cuda.is_available() else \"cpu\")\n",
    "print(device)  \n",
    "# If 'cuda:0' is printed, it means GPU is available."
   ]
  },
  {
   "cell_type": "code",
   "execution_count": 4,
   "metadata": {},
   "outputs": [],
   "source": [
    "data_transforms = {\n",
    "    'train': transforms.Compose([\n",
    "        transforms.ToTensor(),\n",
    "        transforms.Normalize([0.4802, 0.4481, 0.3975], [0.2302, 0.2265, 0.2262]),\n",
    "    ]),\n",
    "    'val': transforms.Compose([\n",
    "        transforms.ToTensor(),\n",
    "        transforms.Normalize([0.4802, 0.4481, 0.3975], [0.2302, 0.2265, 0.2262]),\n",
    "    ]),\n",
    "    'test': transforms.Compose([\n",
    "        transforms.ToTensor(),\n",
    "        transforms.Normalize([0.4802, 0.4481, 0.3975], [0.2302, 0.2265, 0.2262]),\n",
    "    ])\n",
    "}\n",
    "\n",
    "data_dir = 'tiny-imagenet-200/'\n",
    "\n",
    "num_workers = {\n",
    "    'train' : 100,\n",
    "    'val'   : 0,\n",
    "    'test'  : 0\n",
    "}\n",
    "\n",
    "image_datasets = {x: datasets.ImageFolder(os.path.join(data_dir, x),\n",
    "                                          data_transforms[x])\n",
    "                  for x in ['train', 'val','test']}\n",
    "dataloaders = {x: torch.utils.data.DataLoader(image_datasets[x], batch_size=100,\n",
    "                                             shuffle=True,num_workers=num_workers[x])\n",
    "              for x in ['train', 'val', 'test']}\n",
    "dataset_sizes = {x: len(image_datasets[x]) for x in ['train', 'val', 'test']}"
   ]
  },
  {
   "cell_type": "code",
   "execution_count": null,
   "metadata": {},
   "outputs": [],
   "source": [
    "def imshow(img):\n",
    "    img = img.numpy().transpose((1, 2, 0))\n",
    "    img = np.clip(img, 0, 1)\n",
    "    plt.imshow(img)\n",
    "\n",
    "images, labels = next(iter(dataloaders['train']))\n",
    "print(labels)\n",
    "grid_img = make_grid(images[:4], nrow=4)\n",
    "imshow(grid_img)"
   ]
  },
  {
   "cell_type": "code",
   "execution_count": 33,
   "metadata": {
    "scrolled": false
   },
   "outputs": [
    {
     "data": {
      "text/plain": [
       "AlexNet(\n",
       "  (features): Sequential(\n",
       "    (0): Conv2d(3, 64, kernel_size=(11, 11), stride=(4, 4), padding=(2, 2))\n",
       "    (1): ReLU(inplace=True)\n",
       "    (2): MaxPool2d(kernel_size=3, stride=2, padding=0, dilation=1, ceil_mode=False)\n",
       "    (3): Conv2d(64, 192, kernel_size=(5, 5), stride=(1, 1), padding=(2, 2))\n",
       "    (4): ReLU(inplace=True)\n",
       "    (5): MaxPool2d(kernel_size=3, stride=2, padding=0, dilation=1, ceil_mode=False)\n",
       "    (6): Conv2d(192, 384, kernel_size=(3, 3), stride=(1, 1), padding=(1, 1))\n",
       "    (7): ReLU(inplace=True)\n",
       "    (8): Conv2d(384, 256, kernel_size=(3, 3), stride=(1, 1), padding=(1, 1))\n",
       "    (9): ReLU(inplace=True)\n",
       "    (10): Conv2d(256, 256, kernel_size=(3, 3), stride=(1, 1), padding=(1, 1))\n",
       "    (11): ReLU(inplace=True)\n",
       "    (12): MaxPool2d(kernel_size=3, stride=2, padding=0, dilation=1, ceil_mode=False)\n",
       "  )\n",
       "  (avgpool): AdaptiveAvgPool2d(output_size=(6, 6))\n",
       "  (classifier): Sequential(\n",
       "    (0): Dropout(p=0.5, inplace=False)\n",
       "    (1): Linear(in_features=9216, out_features=4096, bias=True)\n",
       "    (2): ReLU(inplace=True)\n",
       "    (3): Dropout(p=0.5, inplace=False)\n",
       "    (4): Linear(in_features=4096, out_features=4096, bias=True)\n",
       "    (5): ReLU(inplace=True)\n",
       "    (6): Linear(in_features=4096, out_features=1000, bias=True)\n",
       "  )\n",
       ")"
      ]
     },
     "execution_count": 33,
     "metadata": {},
     "output_type": "execute_result"
    }
   ],
   "source": [
    "class Net(nn.Module):\n",
    "    def __init__(self):\n",
    "        super(Net, self).__init__()\n",
    "        \n",
    "        self.conv1 = nn.Conv2d(3,6,5)\n",
    "        self.pool = nn.MaxPool2d(2,2)\n",
    "        self.conv2 = nn.Conv2d(6,16,5)\n",
    "        self.fc1 = nn.Linear(16*5*5,120)\n",
    "        self.fc2 = nn.Linear(120,84)\n",
    "        self.fc3 = nn.Linear(84,10)\n",
    "        \n",
    "        \n",
    "        \n",
    "        \n",
    "        \n",
    "    def forward(self, x):\n",
    "        \n",
    "        x = self.pool(F.relu(self.conv1(x)))\n",
    "        x = self.pool(F.relu(self.conv2(x)))\n",
    "        x = x.view(-1, 16*5*5)\n",
    "        x = F.relu(self.fc1(x))\n",
    "        x = F.relu(self.fc2(x))\n",
    "        x = self.fc3(x)\n",
    "        \n",
    "        \n",
    "        \n",
    "        \n",
    "        return x\n",
    "\n",
    "net = alexnet.AlexNet()     # Create the network instance.\n",
    "net.to(device)"
   ]
  },
  {
   "cell_type": "code",
   "execution_count": 34,
   "metadata": {},
   "outputs": [],
   "source": [
    "# We use cross-entropy as loss function.\n",
    "loss_func = nn.CrossEntropyLoss()  \n",
    "# We use stochastic gradient descent (SGD) as optimizer.\n",
    "opt = optim.SGD(net.parameters(), lr=0.001, momentum=0.9) "
   ]
  },
  {
   "cell_type": "code",
   "execution_count": 35,
   "metadata": {},
   "outputs": [
    {
     "name": "stdout",
     "output_type": "stream",
     "text": [
      "[epoch: 0, i:    99] avg mini-batch loss: 6.905\n",
      "[epoch: 0, i:   199] avg mini-batch loss: 6.896\n",
      "[epoch: 0, i:   299] avg mini-batch loss: 6.879\n",
      "[epoch: 0, i:   399] avg mini-batch loss: 6.344\n",
      "[epoch: 0, i:   499] avg mini-batch loss: 5.517\n",
      "[epoch: 0, i:   599] avg mini-batch loss: 5.454\n",
      "[epoch: 0, i:   699] avg mini-batch loss: 5.427\n",
      "[epoch: 0, i:   799] avg mini-batch loss: 5.406\n",
      "[epoch: 0, i:   899] avg mini-batch loss: 5.398\n",
      "[epoch: 0, i:   999] avg mini-batch loss: 5.388\n",
      "[epoch: 1, i:    99] avg mini-batch loss: 5.387\n",
      "[epoch: 1, i:   199] avg mini-batch loss: 5.379\n",
      "[epoch: 1, i:   299] avg mini-batch loss: 5.371\n",
      "[epoch: 1, i:   399] avg mini-batch loss: 5.369\n",
      "[epoch: 1, i:   499] avg mini-batch loss: 5.371\n",
      "[epoch: 1, i:   599] avg mini-batch loss: 5.364\n",
      "[epoch: 1, i:   699] avg mini-batch loss: 5.361\n",
      "[epoch: 1, i:   799] avg mini-batch loss: 5.357\n",
      "[epoch: 1, i:   899] avg mini-batch loss: 5.353\n",
      "[epoch: 1, i:   999] avg mini-batch loss: 5.360\n",
      "[epoch: 2, i:    99] avg mini-batch loss: 5.353\n",
      "[epoch: 2, i:   199] avg mini-batch loss: 5.350\n",
      "[epoch: 2, i:   299] avg mini-batch loss: 5.348\n",
      "[epoch: 2, i:   399] avg mini-batch loss: 5.344\n",
      "[epoch: 2, i:   499] avg mini-batch loss: 5.348\n",
      "[epoch: 2, i:   599] avg mini-batch loss: 5.346\n",
      "[epoch: 2, i:   699] avg mini-batch loss: 5.341\n",
      "[epoch: 2, i:   799] avg mini-batch loss: 5.347\n",
      "[epoch: 2, i:   899] avg mini-batch loss: 5.345\n",
      "[epoch: 2, i:   999] avg mini-batch loss: 5.339\n",
      "[epoch: 3, i:    99] avg mini-batch loss: 5.340\n",
      "[epoch: 3, i:   199] avg mini-batch loss: 5.342\n",
      "[epoch: 3, i:   299] avg mini-batch loss: 5.335\n",
      "[epoch: 3, i:   399] avg mini-batch loss: 5.332\n",
      "[epoch: 3, i:   499] avg mini-batch loss: 5.333\n",
      "[epoch: 3, i:   599] avg mini-batch loss: 5.334\n",
      "[epoch: 3, i:   699] avg mini-batch loss: 5.329\n",
      "[epoch: 3, i:   799] avg mini-batch loss: 5.322\n",
      "[epoch: 3, i:   899] avg mini-batch loss: 5.308\n",
      "[epoch: 3, i:   999] avg mini-batch loss: 5.274\n",
      "[epoch: 4, i:    99] avg mini-batch loss: 5.216\n",
      "[epoch: 4, i:   199] avg mini-batch loss: 5.170\n",
      "[epoch: 4, i:   299] avg mini-batch loss: 5.154\n",
      "[epoch: 4, i:   399] avg mini-batch loss: 5.136\n",
      "[epoch: 4, i:   499] avg mini-batch loss: 5.134\n",
      "[epoch: 4, i:   599] avg mini-batch loss: 5.134\n",
      "[epoch: 4, i:   699] avg mini-batch loss: 5.116\n",
      "[epoch: 4, i:   799] avg mini-batch loss: 5.116\n",
      "[epoch: 4, i:   899] avg mini-batch loss: 5.123\n",
      "[epoch: 4, i:   999] avg mini-batch loss: 5.101\n",
      "[epoch: 5, i:    99] avg mini-batch loss: 5.097\n",
      "[epoch: 5, i:   199] avg mini-batch loss: 5.083\n",
      "[epoch: 5, i:   299] avg mini-batch loss: 5.102\n",
      "[epoch: 5, i:   399] avg mini-batch loss: 5.082\n",
      "[epoch: 5, i:   499] avg mini-batch loss: 5.083\n",
      "[epoch: 5, i:   599] avg mini-batch loss: 5.065\n",
      "[epoch: 5, i:   699] avg mini-batch loss: 5.075\n",
      "[epoch: 5, i:   799] avg mini-batch loss: 5.062\n",
      "[epoch: 5, i:   899] avg mini-batch loss: 5.046\n",
      "[epoch: 5, i:   999] avg mini-batch loss: 5.048\n",
      "[epoch: 6, i:    99] avg mini-batch loss: 5.034\n",
      "[epoch: 6, i:   199] avg mini-batch loss: 5.030\n",
      "[epoch: 6, i:   299] avg mini-batch loss: 5.017\n",
      "[epoch: 6, i:   399] avg mini-batch loss: 5.016\n",
      "[epoch: 6, i:   499] avg mini-batch loss: 5.004\n",
      "[epoch: 6, i:   599] avg mini-batch loss: 4.989\n",
      "[epoch: 6, i:   699] avg mini-batch loss: 4.977\n",
      "[epoch: 6, i:   799] avg mini-batch loss: 4.975\n",
      "[epoch: 6, i:   899] avg mini-batch loss: 4.931\n",
      "[epoch: 6, i:   999] avg mini-batch loss: 4.937\n",
      "[epoch: 7, i:    99] avg mini-batch loss: 4.913\n",
      "[epoch: 7, i:   199] avg mini-batch loss: 4.914\n",
      "[epoch: 7, i:   299] avg mini-batch loss: 4.889\n",
      "[epoch: 7, i:   399] avg mini-batch loss: 4.877\n",
      "[epoch: 7, i:   499] avg mini-batch loss: 4.863\n",
      "[epoch: 7, i:   599] avg mini-batch loss: 4.853\n",
      "[epoch: 7, i:   699] avg mini-batch loss: 4.838\n",
      "[epoch: 7, i:   799] avg mini-batch loss: 4.828\n",
      "[epoch: 7, i:   899] avg mini-batch loss: 4.807\n",
      "[epoch: 7, i:   999] avg mini-batch loss: 4.799\n",
      "[epoch: 8, i:    99] avg mini-batch loss: 4.755\n",
      "[epoch: 8, i:   199] avg mini-batch loss: 4.748\n",
      "[epoch: 8, i:   299] avg mini-batch loss: 4.745\n",
      "[epoch: 8, i:   399] avg mini-batch loss: 4.699\n",
      "[epoch: 8, i:   499] avg mini-batch loss: 4.702\n",
      "[epoch: 8, i:   599] avg mini-batch loss: 4.728\n",
      "[epoch: 8, i:   699] avg mini-batch loss: 4.692\n",
      "[epoch: 8, i:   799] avg mini-batch loss: 4.695\n",
      "[epoch: 8, i:   899] avg mini-batch loss: 4.726\n",
      "[epoch: 8, i:   999] avg mini-batch loss: 4.682\n",
      "[epoch: 9, i:    99] avg mini-batch loss: 4.672\n",
      "[epoch: 9, i:   199] avg mini-batch loss: 4.642\n",
      "[epoch: 9, i:   299] avg mini-batch loss: 4.661\n",
      "[epoch: 9, i:   399] avg mini-batch loss: 4.626\n",
      "[epoch: 9, i:   499] avg mini-batch loss: 4.642\n",
      "[epoch: 9, i:   599] avg mini-batch loss: 4.613\n",
      "[epoch: 9, i:   699] avg mini-batch loss: 4.605\n",
      "[epoch: 9, i:   799] avg mini-batch loss: 4.598\n",
      "[epoch: 9, i:   899] avg mini-batch loss: 4.616\n",
      "[epoch: 9, i:   999] avg mini-batch loss: 4.596\n",
      "Finished Training.\n"
     ]
    }
   ],
   "source": [
    "avg_losses = []   # Avg. losses.\n",
    "epochs = 10       # Total epochs.\n",
    "print_freq = 100  # Print frequency.\n",
    "\n",
    "for epoch in range(epochs):  # Loop over the dataset multiple times.\n",
    "    running_loss = 0.0       # Initialize running loss.\n",
    "    for i, data in enumerate(dataloaders['train'], 0):\n",
    "        \n",
    "        net.train()\n",
    "        \n",
    "        # Get the inputs\n",
    "        inputs, labels = data\n",
    "        \n",
    "        # Move the inputs to the specified device.\n",
    "        inputs, labels = inputs.to(device), labels.to(device)\n",
    "        \n",
    "        # Zero the parameter gradients.\n",
    "        opt.zero_grad()\n",
    "\n",
    "        # Forward step.\n",
    "        outputs = net(inputs)\n",
    "        loss = loss_func(outputs, labels)\n",
    "        \n",
    "        # Backward step.\n",
    "        loss.backward()\n",
    "        \n",
    "        # Optimization step (update the parameters).\n",
    "        opt.step()\n",
    "\n",
    "        # Print statistics.\n",
    "        running_loss += loss.item()\n",
    "        if i % print_freq == print_freq - 1: # Print every several mini-batches.\n",
    "            avg_loss = running_loss / print_freq\n",
    "            print('[epoch: {}, i: {:5d}] avg mini-batch loss: {:.3f}'.format(\n",
    "                epoch, i, avg_loss))\n",
    "            avg_losses.append(avg_loss)\n",
    "            running_loss = 0.0\n",
    "\n",
    "print('Finished Training.')"
   ]
  },
  {
   "cell_type": "code",
   "execution_count": 36,
   "metadata": {},
   "outputs": [
    {
     "data": {
      "image/png": "[encoded data removed]",
      "text/plain": [
       "<Figure size 432x288 with 1 Axes>"
      ]
     },
     "metadata": {
      "needs_background": "light"
     },
     "output_type": "display_data"
    }
   ],
   "source": [
    "plt.plot(avg_losses)\n",
    "plt.xlabel('mini-batch index / {}'.format(print_freq))\n",
    "plt.ylabel('avg. mini-batch loss')\n",
    "plt.show()"
   ]
  },
  {
   "cell_type": "code",
   "execution_count": 37,
   "metadata": {},
   "outputs": [
    {
     "name": "stdout",
     "output_type": "stream",
     "text": [
      "Accuracy of the network on the 10000 test images: 0 %\n"
     ]
    }
   ],
   "source": [
    "# Get test accuracy.\n",
    "correct = 0\n",
    "total = 0\n",
    "with torch.no_grad():\n",
    "    for i, data in enumerate(dataloaders['test']):\n",
    "        net.eval()\n",
    "        images, labels = data\n",
    "        images, labels = images.to(device), labels.to(device)\n",
    "        outputs = net(images)\n",
    "        _, predicted = torch.max(outputs.data, 1)\n",
    "        total += labels.size(0)\n",
    "        correct += (predicted == labels).sum().item()\n",
    "\n",
    "print('Accuracy of the network on the 10000 test images: %d %%' % (\n",
    "    100 * correct / total))"
   ]
  },
  {
   "cell_type": "code",
   "execution_count": null,
   "metadata": {},
   "outputs": [],
   "source": []
  }
 ],
 "metadata": {
  "kernelspec": {
   "display_name": "Python 3",
   "language": "python",
   "name": "python3"
  },
  "language_info": {
   "codemirror_mode": {
    "name": "ipython",
    "version": 3
   },
   "file_extension": ".py",
   "mimetype": "text/x-python",
   "name": "python",
   "nbconvert_exporter": "python",
   "pygments_lexer": "ipython3",
   "version": "3.7.1"
  }
 },
 "nbformat": 4,
 "nbformat_minor": 2
}
